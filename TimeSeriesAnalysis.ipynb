{
 "cells": [
  {
   "cell_type": "code",
   "execution_count": null,
   "metadata": {},
   "outputs": [],
   "source": []
  },
  {
   "cell_type": "code",
   "execution_count": 218,
   "metadata": {},
   "outputs": [],
   "source": [
    "%matplotlib widget\n",
    "# %pylab inline\n",
    "from matplotlib.pylab import *\n",
    "datafile = \"data.npz\"\n",
    "import numpy as np"
   ]
  },
  {
   "cell_type": "code",
   "execution_count": 219,
   "metadata": {},
   "outputs": [],
   "source": [
    "o = np.load(datafile)\n",
    "im = o[\"image\"]\n",
    "upx, upy = o[\"upperlimit\"]\n",
    "lox, loy = o[\"lowerlimit\"]"
   ]
  },
  {
   "cell_type": "code",
   "execution_count": 220,
   "metadata": {},
   "outputs": [
    {
     "data": {
      "application/vnd.jupyter.widget-view+json": {
       "model_id": "dfa5b06a678d4719832cb6c133deda32",
       "version_major": 2,
       "version_minor": 0
      },
      "text/plain": [
       "Canvas(toolbar=Toolbar(toolitems=[('Home', 'Reset original view', 'home', 'home'), ('Back', 'Back to previous …"
      ]
     },
     "metadata": {},
     "output_type": "display_data"
    },
    {
     "data": {
      "text/plain": [
       "<matplotlib.collections.PathCollection at 0x7f83f8746370>"
      ]
     },
     "execution_count": 220,
     "metadata": {},
     "output_type": "execute_result"
    }
   ],
   "source": [
    "# figure(figsize=(10,10))\n",
    "imshow(im)\n",
    "plt.scatter(upy,upx, c='y', s=1)\n",
    "plt.scatter(loy,lox, c='y', s=1)\n",
    "# plt.scatter(loy[602],lox[602], c='r', s=50)\n",
    "# plt.scatter(upy[602],upx[602], c='r', s=50)"
   ]
  },
  {
   "cell_type": "code",
   "execution_count": 221,
   "metadata": {},
   "outputs": [],
   "source": [
    "# we want to analyze a full segment of the layered body\n",
    "start, end = 1400, 1640 # start and end column"
   ]
  },
  {
   "cell_type": "code",
   "execution_count": 222,
   "metadata": {},
   "outputs": [
    {
     "data": {
      "application/vnd.jupyter.widget-view+json": {
       "model_id": "5a1681049a1a4cee9cf39b30d92fefdf",
       "version_major": 2,
       "version_minor": 0
      },
      "text/plain": [
       "Canvas(toolbar=Toolbar(toolitems=[('Home', 'Reset original view', 'home', 'home'), ('Back', 'Back to previous …"
      ]
     },
     "metadata": {},
     "output_type": "display_data"
    },
    {
     "data": {
      "text/plain": [
       "<matplotlib.collections.LineCollection at 0x7f83f8c67ac0>"
      ]
     },
     "execution_count": 222,
     "metadata": {},
     "output_type": "execute_result"
    }
   ],
   "source": [
    "figure(figsize=(10,10))\n",
    "imshow(im)\n",
    "plt.scatter(upy,upx, c='y', s=1)\n",
    "plt.scatter(loy,lox, c='y', s=1)\n",
    "\n",
    "vlines([start, end], 0, 1600)"
   ]
  },
  {
   "cell_type": "code",
   "execution_count": null,
   "metadata": {},
   "outputs": [],
   "source": []
  },
  {
   "cell_type": "code",
   "execution_count": null,
   "metadata": {},
   "outputs": [],
   "source": []
  },
  {
   "cell_type": "code",
   "execution_count": null,
   "metadata": {},
   "outputs": [],
   "source": []
  },
  {
   "cell_type": "code",
   "execution_count": 225,
   "metadata": {},
   "outputs": [],
   "source": [
    "from attr import ib, attrs\n",
    "@attrs\n",
    "class TimeSerie():\n",
    "    signal = ib()\n",
    "    start = ib()\n",
    "    end = ib()\n",
    "    column = ib()\n",
    "    \n"
   ]
  },
  {
   "cell_type": "code",
   "execution_count": 226,
   "metadata": {},
   "outputs": [
    {
     "data": {
      "application/vnd.jupyter.widget-view+json": {
       "model_id": "aa3919b56d0e42f7ae31dc6497de37f1",
       "version_major": 2,
       "version_minor": 0
      },
      "text/plain": [
       "Canvas(toolbar=Toolbar(toolitems=[('Home', 'Reset original view', 'home', 'home'), ('Back', 'Back to previous …"
      ]
     },
     "metadata": {},
     "output_type": "display_data"
    },
    {
     "data": {
      "text/plain": [
       "<matplotlib.collections.LineCollection at 0x7f83f89d9880>"
      ]
     },
     "execution_count": 226,
     "metadata": {},
     "output_type": "execute_result"
    }
   ],
   "source": [
    "# now we extract the timeseries, also a plot just to be sure of what we are doing\n",
    "\n",
    "figure()\n",
    "imshow(im)\n",
    "gray()\n",
    "series = []\n",
    "noises = []\n",
    "\n",
    "nlength = 150 # lenght of ts for noise\n",
    "buf = 10\n",
    "\n",
    "for i, colid in enumerate(np.arange(start, end)):\n",
    "#     print(f\"column {colid}\")\n",
    "    if colid not in upy:\n",
    "#         print(\"not\")\n",
    "        continue\n",
    "        \n",
    "    col_pos_in_list = np.where(colid == upy)[0][0]\n",
    "        \n",
    "    astart = upx[col_pos_in_list]\n",
    "    aend = lox[col_pos_in_list]\n",
    "#     print(astart, aend)\n",
    "    \n",
    "    ts = im.T[colid][astart:aend]\n",
    "    \n",
    "    nstart = astart-nlength - buf\n",
    "    nend = astart-buf\n",
    "    \n",
    "    no = im.T[colid][nstart:nend]\n",
    "    plot(ts*0.1+colid, np.arange(len(ts))+astart+1, color=\"b\", linewidth=0.5)\n",
    "    \n",
    "    series.append(TimeSerie(signal=ts, start=astart, end=aend, column=colid))\n",
    "    noises.append(TimeSerie(signal=no, start=nstart, end=nend, column=colid))\n",
    "    \n",
    "# gca().set_ylim(gca().get_ylim()[::-1])\n",
    "\n",
    "plt.scatter(upy,upx, c='y', s=1)\n",
    "plt.scatter(loy,lox, c='y', s=1)\n",
    "\n",
    "vlines([start, end], 0, 1600)"
   ]
  },
  {
   "cell_type": "code",
   "execution_count": 227,
   "metadata": {},
   "outputs": [
    {
     "data": {
      "application/vnd.jupyter.widget-view+json": {
       "model_id": "1344558feb5240ce865c6da98f8c455f",
       "version_major": 2,
       "version_minor": 0
      },
      "text/plain": [
       "Canvas(toolbar=Toolbar(toolitems=[('Home', 'Reset original view', 'home', 'home'), ('Back', 'Back to previous …"
      ]
     },
     "metadata": {},
     "output_type": "display_data"
    },
    {
     "data": {
      "text/plain": [
       "<matplotlib.collections.LineCollection at 0x7f83f87b3fa0>"
      ]
     },
     "execution_count": 227,
     "metadata": {},
     "output_type": "execute_result"
    }
   ],
   "source": [
    "# test a wiggle plot, it highlights the horizons, often used in seismic data\n",
    "\n",
    "figure()\n",
    "for ts in series:\n",
    "    \n",
    "    s = ts.signal - np.mean(ts.signal)\n",
    "    s /= np.std(s)\n",
    "    \n",
    "    plot(s*2+ts.column, np.arange(len(s))+ts.start, color=\"b\", linewidth=0.3)\n",
    "    \n",
    "gca().set_ylim(gca().get_ylim()[::-1])\n",
    "\n",
    "\n",
    "vlines([start, end], 0, 1600)"
   ]
  },
  {
   "cell_type": "code",
   "execution_count": 228,
   "metadata": {},
   "outputs": [
    {
     "data": {
      "application/vnd.jupyter.widget-view+json": {
       "model_id": "d59555c8c0dd4a3796446bc25b5715cf",
       "version_major": 2,
       "version_minor": 0
      },
      "text/plain": [
       "Canvas(toolbar=Toolbar(toolitems=[('Home', 'Reset original view', 'home', 'home'), ('Back', 'Back to previous …"
      ]
     },
     "metadata": {},
     "output_type": "display_data"
    },
    {
     "data": {
      "text/plain": [
       "<matplotlib.collections.LineCollection at 0x7f83f87af880>"
      ]
     },
     "execution_count": 228,
     "metadata": {},
     "output_type": "execute_result"
    }
   ],
   "source": [
    "# test a wiggle plot of noise, it highlights the horizons, often used in seismic data, these are examples of noise\n",
    "\n",
    "figure()\n",
    "for ts in noises:\n",
    "    \n",
    "    s = ts.signal - np.mean(ts.signal)\n",
    "    s /= np.std(s)\n",
    "    \n",
    "    plot(s*2+ts.column, np.arange(len(s))+ts.start, color=\"b\", linewidth=0.3)\n",
    "    \n",
    "gca().set_ylim(gca().get_ylim()[::-1])\n",
    "\n",
    "\n",
    "vlines([start, end], 0, 1600)"
   ]
  },
  {
   "cell_type": "code",
   "execution_count": 236,
   "metadata": {},
   "outputs": [],
   "source": [
    "from scipy.signal import periodogram, get_window, detrend, find_peaks, find_peaks_cwt\n",
    "padto =10000\n",
    "powers = []\n",
    "\n",
    "for n in noises:\n",
    "    \n",
    "    w = get_window(\"hamming\", len(n.signal))\n",
    "    \n",
    "    signal = detrend(n.signal, type=\"linear\")\n",
    "    \n",
    "    signal = signal*w\n",
    "    \n",
    "    padded = np.pad(signal, (0, padto-len(n.signal)))\n",
    "    f, p = periodogram(padded, detrend=\"linear\", fs =1) # fs should be set to a sampling frequency that makes sense e.g. time\n",
    "    powers.append(p)\n",
    "    \n",
    "noise_f = f\n",
    "avg_p_noise  = np.mean(np.row_stack(powers), axis=0) # the averagepower spectrum of the noise, to have a reference"
   ]
  },
  {
   "cell_type": "code",
   "execution_count": 237,
   "metadata": {},
   "outputs": [],
   "source": [
    "ci95 = np.percentile(powers, 99.9, axis=0)"
   ]
  },
  {
   "cell_type": "code",
   "execution_count": null,
   "metadata": {},
   "outputs": [],
   "source": []
  },
  {
   "cell_type": "code",
   "execution_count": 238,
   "metadata": {},
   "outputs": [],
   "source": [
    "# now the same for the signals\n",
    "padto =10000\n",
    "powers = []\n",
    "for n in series:\n",
    "    w = get_window(\"hamming\", len(n.signal))\n",
    "    signal = detrend(n.signal, type=\"linear\")\n",
    "    \n",
    "    signal = signal*w\n",
    "    padded = np.pad(signal, (0, padto-len(n.signal)))\n",
    "    \n",
    "    f, p = periodogram(padded, detrend=False, fs =1) # fs should be set to a sampling frequency that makes sense e.g. time step of the radar signal\n",
    "    powers.append(p)\n",
    "    \n",
    "signal_f = f\n",
    "avg_p_signals  = np.mean(np.row_stack(powers), axis=0) # the average power spectrum of the noise, to have a reference"
   ]
  },
  {
   "cell_type": "code",
   "execution_count": 239,
   "metadata": {},
   "outputs": [
    {
     "data": {
      "text/plain": [
       "DescribeResult(nobs=240, minmax=(112, 145), mean=132.09166666666667, variance=47.01248256624826, skewness=-0.7185013165205091, kurtosis=0.28940896942435357)"
      ]
     },
     "execution_count": 239,
     "metadata": {},
     "output_type": "execute_result"
    }
   ],
   "source": [
    "lengths = []\n",
    "for n in series:\n",
    "    lengths.append(len(n.signal))\n",
    "    \n",
    "import scipy\n",
    "scipy.stats.describe(lengths) # we have a look at the lengths of the signals we are analyzing, theygo from 100 to 150, average is 132"
   ]
  },
  {
   "cell_type": "code",
   "execution_count": 240,
   "metadata": {},
   "outputs": [
    {
     "data": {
      "text/plain": [
       "array([ 119,  435,  597,  723, 1209, 1583, 2028, 2173, 2633, 2845, 2962,\n",
       "       3207, 3361, 3558, 3724, 3923, 4034, 4216, 4256, 4371, 4495, 4593,\n",
       "       4926])"
      ]
     },
     "execution_count": 240,
     "metadata": {},
     "output_type": "execute_result"
    }
   ],
   "source": []
  },
  {
   "cell_type": "code",
   "execution_count": null,
   "metadata": {},
   "outputs": [],
   "source": []
  },
  {
   "cell_type": "code",
   "execution_count": 259,
   "metadata": {},
   "outputs": [],
   "source": [
    "def plot_peaks(freqs, power):\n",
    "    peaks = find_peaks(power)[0]\n",
    "    tt = ['{:6.2f}'.format(1/val) for val in freqs[peaks]]\n",
    "\n",
    "    for s, p, t in zip(freqs[peaks], power[peaks], tt):\n",
    "        text(s,p,t)\n",
    "        \n",
    "    return peaks"
   ]
  },
  {
   "cell_type": "code",
   "execution_count": 260,
   "metadata": {},
   "outputs": [
    {
     "name": "stderr",
     "output_type": "stream",
     "text": [
      "<ipython-input-260-afd0945db81b>:1: RuntimeWarning: More than 20 figures have been opened. Figures created through the pyplot interface (`matplotlib.pyplot.figure`) are retained until explicitly closed and may consume too much memory. (To control this warning, see the rcParam `figure.max_open_warning`).\n",
      "  figure()\n"
     ]
    },
    {
     "data": {
      "application/vnd.jupyter.widget-view+json": {
       "model_id": "c3be9173828944b9bb0e39f63f058425",
       "version_major": 2,
       "version_minor": 0
      },
      "text/plain": [
       "Canvas(toolbar=Toolbar(toolitems=[('Home', 'Reset original view', 'home', 'home'), ('Back', 'Back to previous …"
      ]
     },
     "metadata": {},
     "output_type": "display_data"
    },
    {
     "data": {
      "text/plain": [
       "(0.0, 0.2)"
      ]
     },
     "execution_count": 260,
     "metadata": {},
     "output_type": "execute_result"
    }
   ],
   "source": [
    "figure()\n",
    "plot(noise_f, avg_p_noise, label=\"noise\")\n",
    "plot(signal_f, avg_p_signals, label=\"signal\")\n",
    "plot(noise_f, ci95*20, label=\"C99.9\")\n",
    "\n",
    "\n",
    "scatter(signal_f[peaks], avg_p_signals[peaks])\n",
    "\n",
    "\n",
    "\n",
    "plot_peaks(signal_f, avg_p_signals)\n",
    "    \n",
    "title(\"peaks in periods [samples]\")\n",
    "legend()\n",
    "xlim(0, 0.20)"
   ]
  },
  {
   "cell_type": "markdown",
   "metadata": {},
   "source": [
    "The peaks are at 84, 14, and 8, meaning good potion of the spectral energy is concentrated around these bands.\n",
    "84 is not so far from the average lengths of the signals (134) making it impossible to establish if it is noise or not\n",
    "but the 14/17 and 8 might be real. In particular around 8 might be the main layering, which would seem to be organized in boundles of largest length, around 15)\n",
    "We now try to better attribute these features to the signal, as example we use the column 1530"
   ]
  },
  {
   "cell_type": "code",
   "execution_count": 261,
   "metadata": {},
   "outputs": [],
   "source": [
    "for ts in series: # search the corresponding signal\n",
    "    if ts.column == 1530:\n",
    "        selected = ts\n",
    "    "
   ]
  },
  {
   "cell_type": "code",
   "execution_count": 286,
   "metadata": {},
   "outputs": [
    {
     "name": "stderr",
     "output_type": "stream",
     "text": [
      "<ipython-input-286-21a9afadf06a>:1: RuntimeWarning: More than 20 figures have been opened. Figures created through the pyplot interface (`matplotlib.pyplot.figure`) are retained until explicitly closed and may consume too much memory. (To control this warning, see the rcParam `figure.max_open_warning`).\n",
      "  figure()\n"
     ]
    },
    {
     "data": {
      "application/vnd.jupyter.widget-view+json": {
       "model_id": "850a33e91e52460bb8aa2238f16080e1",
       "version_major": 2,
       "version_minor": 0
      },
      "text/plain": [
       "Canvas(toolbar=Toolbar(toolitems=[('Home', 'Reset original view', 'home', 'home'), ('Back', 'Back to previous …"
      ]
     },
     "metadata": {},
     "output_type": "display_data"
    },
    {
     "name": "stderr",
     "output_type": "stream",
     "text": [
      "<ipython-input-286-21a9afadf06a>:7: RuntimeWarning: More than 20 figures have been opened. Figures created through the pyplot interface (`matplotlib.pyplot.figure`) are retained until explicitly closed and may consume too much memory. (To control this warning, see the rcParam `figure.max_open_warning`).\n",
      "  figure()\n"
     ]
    },
    {
     "data": {
      "application/vnd.jupyter.widget-view+json": {
       "model_id": "5b4566a4d35546cd9b61505f8d69d49f",
       "version_major": 2,
       "version_minor": 0
      },
      "text/plain": [
       "Canvas(toolbar=Toolbar(toolitems=[('Home', 'Reset original view', 'home', 'home'), ('Back', 'Back to previous …"
      ]
     },
     "metadata": {},
     "output_type": "display_data"
    },
    {
     "data": {
      "text/plain": [
       "array([ 2,  4,  6,  8, 10, 13, 17, 20, 22, 26, 31, 33, 37, 42, 47, 51, 56,\n",
       "       59, 63, 68])"
      ]
     },
     "execution_count": 286,
     "metadata": {},
     "output_type": "execute_result"
    }
   ],
   "source": [
    "figure()\n",
    "s = selected.signal\n",
    "s = detrend(s, type=\"linear\")\n",
    "plot(s)\n",
    "\n",
    "f, p = periodogram(s)\n",
    "figure()\n",
    "plot(f,p)\n",
    "\n",
    "plot_peaks(f,p)"
   ]
  },
  {
   "cell_type": "markdown",
   "metadata": {},
   "source": [
    "We see that we have again 6, 8, 14 and 23 as main periods, might they be all harmonics? It would be interesting to create a fake signal to test what kind of harmonics one get out of them\n",
    "we try to filter out these components to see what they represent"
   ]
  },
  {
   "cell_type": "code",
   "execution_count": 264,
   "metadata": {},
   "outputs": [],
   "source": [
    "from scipy import fftpack"
   ]
  },
  {
   "cell_type": "code",
   "execution_count": 279,
   "metadata": {},
   "outputs": [],
   "source": [
    "def fft_bandpass_filter(s, interval, time_step=1):\n",
    "    signal_fft = fftpack.fft(s)\n",
    "\n",
    "    # The corresponding frequencies\n",
    "    freqs = fftpack.fftfreq(s.size, d=time_step)\n",
    "\n",
    "    copy = np.zeros(freqs.size)\n",
    "\n",
    "    low, high = interval\n",
    "    slotfreqs = np.logical_and(np.abs(freqs) > low, np.abs(freqs) < high)\n",
    "    copy[slotfreqs] = signal_fft[slotfreqs]\n",
    "\n",
    "    filtered_signal = fftpack.ifft(copy)\n",
    "    return filtered_signal\n",
    "\n",
    "def fft_bandpass_filter_multibands(s, intervals, time_step = 1):\n",
    "    signal_fft = fftpack.fft(s)\n",
    "\n",
    "    # The corresponding frequencies\n",
    "    freqs = fftpack.fftfreq(s.size, d=time_step)\n",
    "\n",
    "    copy = np.zeros(freqs.size)\n",
    "\n",
    "    for low, high in intervals:\n",
    "        slotfreqs = np.logical_and(np.abs(freqs) > low, np.abs(freqs) < high)\n",
    "        copy[slotfreqs] = signal_fft[slotfreqs]\n",
    "\n",
    "    filtered_signal = fftpack.ifft(copy)\n",
    "    return filtered_signal"
   ]
  },
  {
   "cell_type": "code",
   "execution_count": 287,
   "metadata": {},
   "outputs": [
    {
     "name": "stderr",
     "output_type": "stream",
     "text": [
      "<ipython-input-279-77d9618a5c14>:26: ComplexWarning: Casting complex values to real discards the imaginary part\n",
      "  copy[slotfreqs] = signal_fft[slotfreqs]\n"
     ]
    }
   ],
   "source": [
    "ints = [(0.038, 0.048), (0.065, 0.085), (0.114, 0.133), (0.149, 0.175)]\n",
    "\n",
    "f = fft_bandpass_filter_multibands(s, time_step=1, intervals=ints) #time step should be changed to something more meaningful, as earlier in this notebook"
   ]
  },
  {
   "cell_type": "code",
   "execution_count": 288,
   "metadata": {},
   "outputs": [
    {
     "name": "stderr",
     "output_type": "stream",
     "text": [
      "<ipython-input-288-9c0771ef3ea9>:1: RuntimeWarning: More than 20 figures have been opened. Figures created through the pyplot interface (`matplotlib.pyplot.figure`) are retained until explicitly closed and may consume too much memory. (To control this warning, see the rcParam `figure.max_open_warning`).\n",
      "  figure()\n"
     ]
    },
    {
     "data": {
      "application/vnd.jupyter.widget-view+json": {
       "model_id": "1f0bb6445f6f400696f8f942691efd9d",
       "version_major": 2,
       "version_minor": 0
      },
      "text/plain": [
       "Canvas(toolbar=Toolbar(toolitems=[('Home', 'Reset original view', 'home', 'home'), ('Back', 'Back to previous …"
      ]
     },
     "metadata": {},
     "output_type": "display_data"
    },
    {
     "name": "stderr",
     "output_type": "stream",
     "text": [
      "<ipython-input-279-77d9618a5c14>:11: ComplexWarning: Casting complex values to real discards the imaginary part\n",
      "  copy[slotfreqs] = signal_fft[slotfreqs]\n",
      "/usr/lib/python3.8/site-packages/numpy/core/_asarray.py:85: ComplexWarning: Casting complex values to real discards the imaginary part\n",
      "  return array(a, dtype, copy=False, order=order)\n",
      "<ipython-input-279-77d9618a5c14>:11: ComplexWarning: Casting complex values to real discards the imaginary part\n",
      "  copy[slotfreqs] = signal_fft[slotfreqs]\n",
      "/usr/lib/python3.8/site-packages/numpy/core/_asarray.py:85: ComplexWarning: Casting complex values to real discards the imaginary part\n",
      "  return array(a, dtype, copy=False, order=order)\n",
      "<ipython-input-279-77d9618a5c14>:11: ComplexWarning: Casting complex values to real discards the imaginary part\n",
      "  copy[slotfreqs] = signal_fft[slotfreqs]\n",
      "/usr/lib/python3.8/site-packages/numpy/core/_asarray.py:85: ComplexWarning: Casting complex values to real discards the imaginary part\n",
      "  return array(a, dtype, copy=False, order=order)\n",
      "<ipython-input-279-77d9618a5c14>:11: ComplexWarning: Casting complex values to real discards the imaginary part\n",
      "  copy[slotfreqs] = signal_fft[slotfreqs]\n",
      "/usr/lib/python3.8/site-packages/numpy/core/_asarray.py:85: ComplexWarning: Casting complex values to real discards the imaginary part\n",
      "  return array(a, dtype, copy=False, order=order)\n"
     ]
    }
   ],
   "source": [
    "figure()\n",
    "\n",
    "plot(s)\n",
    "\n",
    "for i, inte in enumerate(ints):\n",
    "    ss = fft_bandpass_filter(s, inte, 1 )\n",
    "    plot(ss+i*20)"
   ]
  },
  {
   "cell_type": "code",
   "execution_count": 12,
   "metadata": {},
   "outputs": [],
   "source": [
    "# we use an R package called astrochron for the speectral estimates, it might not be really straighforward\n",
    "# install R, then open an R console by calling \"R\" in the command line\n",
    "# now we install the librarby we will need \"install.packages(\"astrochron\")\"\n",
    "# might not work at all on windows\n",
    "\n",
    "\n",
    "import rpy2.robjects as robjects\n",
    "from rpy2.robjects import numpy2ri\n",
    "numpy2ri.activate()\n"
   ]
  },
  {
   "cell_type": "code",
   "execution_count": null,
   "metadata": {},
   "outputs": [],
   "source": [
    "# next to be finished/evaluated for the future"
   ]
  },
  {
   "cell_type": "code",
   "execution_count": 13,
   "metadata": {},
   "outputs": [],
   "source": [
    "from rpy2.robjects.packages import importr\n",
    "utils = importr('utils')\n",
    "# utils.chooseCRANmirror(ind=1)\n",
    "# utils.install_packages('astrochron')"
   ]
  },
  {
   "cell_type": "code",
   "execution_count": 14,
   "metadata": {},
   "outputs": [],
   "source": [
    "from rpy2.robjects.packages import importr\n",
    "ac = importr(\"astrochron\")\n",
    "\n"
   ]
  },
  {
   "cell_type": "code",
   "execution_count": 37,
   "metadata": {},
   "outputs": [
    {
     "name": "stdout",
     "output_type": "stream",
     "text": [
      "\n",
      "----- PERFORMING Mann and Lees (1996) Robust Red Noise Analysis -----\n",
      " * Number of data points in stratigraphic series: 127 \n",
      " * Stratigraphic series length (space or time): 126 \n",
      " * Sampling interval (space or time): 1 \n",
      " * Will use default setting of 5 DPSS tapers\n",
      " * Mean value subtracted= 90.74803 \n",
      " * Linear trend subtracted. m= -0.1982272 b= 12.48831 \n",
      " * Estimated Conventional AR1 coefficient = 0.95527 \n",
      " * Nyquist frequency: 0.5 \n",
      " * Rayleigh frequency: 0.007874016 \n",
      " * MTM Power spectrum bandwidth resolution (halfwidth): 0.02362205 \n",
      " * Padded to 2540 points\n",
      " * Frequency grid spacing: 0.0003937008 \n",
      " * Calculating median smoothed spectrum using Tukey's robust end-point rule and symmetrical medians\n",
      " * Median smoothing window increased by 1 point\n",
      " * Number of smoothing points= 255 \n",
      " * Calculating analytic fit of AR1 to median smoothed spectrum using Brent's method\n",
      " * Estimated Robust AR1 coefficient = 0.9942724 \n",
      "\n",
      " * Searching for significant spectral peaks that satisfy 90 % CL\n",
      "     requirements outlined in Meyers (2012):\n",
      " * Number of significant F-test peaks identified = 4 \n",
      "ID  / Frequency / Period / Harmonic_CL / Rednoise_CL\n",
      "1   0.08700787   11.49321   99.03387   99.99968 \n",
      "2   0.1181102   8.466667   99.85363   100 \n",
      "3   0.1417323   7.055556   99.63153   100 \n",
      "4   0.2200787   4.543828   96.94218   97.26642 \n"
     ]
    }
   ],
   "source": [
    "s = series[10].signal\n",
    "\n",
    "dat = np.column_stack([np.arange(len(s)), s])\n",
    "power = ac.mtmML96(dat, linLog=2, output=1, genplot=False, detrend=True, demean=True, padfac=20)"
   ]
  },
  {
   "cell_type": "code",
   "execution_count": 39,
   "metadata": {},
   "outputs": [
    {
     "data": {
      "application/vnd.jupyter.widget-view+json": {
       "model_id": "a5f7da37d2eb443790981b4597a1d924",
       "version_major": 2,
       "version_minor": 0
      },
      "text/plain": [
       "Canvas(toolbar=Toolbar(toolitems=[('Home', 'Reset original view', 'home', 'home'), ('Back', 'Back to previous …"
      ]
     },
     "metadata": {},
     "output_type": "display_data"
    },
    {
     "data": {
      "text/plain": [
       "(0.0, 0.2)"
      ]
     },
     "execution_count": 39,
     "metadata": {},
     "output_type": "execute_result"
    }
   ],
   "source": [
    "f = power[\"Frequency\"]\n",
    "p = power[\"Power\"]\n",
    "figure()\n",
    "plot(f, p)\n",
    "xlim(0, 0.2)"
   ]
  },
  {
   "cell_type": "code",
   "execution_count": 36,
   "metadata": {},
   "outputs": [
    {
     "data": {
      "text/plain": [
       "\u001b[0;31mSignature:\u001b[0m       \u001b[0mac\u001b[0m\u001b[0;34m.\u001b[0m\u001b[0mmtmML96\u001b[0m\u001b[0;34m(\u001b[0m\u001b[0;34m*\u001b[0m\u001b[0margs\u001b[0m\u001b[0;34m,\u001b[0m \u001b[0;34m**\u001b[0m\u001b[0mkwargs\u001b[0m\u001b[0;34m)\u001b[0m\u001b[0;34m\u001b[0m\u001b[0;34m\u001b[0m\u001b[0m\n",
       "\u001b[0;31mType:\u001b[0m            DocumentedSTFunction\n",
       "\u001b[0;31mString form:\u001b[0m    \n",
       "function (dat, tbw = 3, ntap = NULL, padfac = 5, demean = T,\n",
       "           detrend = F, medsmooth = 0.2, o <...> \"\n",
       "           return(sigfreq)\n",
       "           }\n",
       "           }\n",
       "           <bytecode: 0x55bbce163f80>\n",
       "           <environment: namespace:astrochron>\n",
       "           \n",
       "\u001b[0;31mFile:\u001b[0m            /usr/lib/python3.8/site-packages/rpy2/robjects/functions.py\n",
       "\u001b[0;31mDocstring:\u001b[0m      \n",
       "Python representation of an R function.\n",
       "description\n",
       "-----------\n",
       "\n",
       "\n",
       " Mann and Lees (1996) robust red noise MTM analysis. This function implements several improvements to the algorithm used in SSA-MTM toolkit, including faster AR1 model optimization, and more appropriate 'edge-effect' treatment.\n",
       " \n",
       "\n",
       "\n",
       "mtmML96(\n",
       "    dat,\n",
       "    tbw = 3.0,\n",
       "    ntap = rinterface.NULL,\n",
       "    padfac = 5.0,\n",
       "    demean = <rpy2.rinterface.ListSexpVector object at 0x7f84063653c0> [RTYPES.VECSXP],\n",
       "    detrend = <rpy2.rinterface.ListSexpVector object at 0x7f8406365dc0> [RTYPES.VECSXP],\n",
       "    medsmooth = 0.2,\n",
       "    opt = 1.0,\n",
       "    linLog = 2.0,\n",
       "    siglevel = 0.9,\n",
       "    output = 0.0,\n",
       "    CLpwr = <rpy2.rinterface.ListSexpVector object at 0x7f8406365f80> [RTYPES.VECSXP],\n",
       "    xmin = 0.0,\n",
       "    xmax = <rpy2.rinterface.ListSexpVector object at 0x7f8406365f80> [RTYPES.VECSXP],\n",
       "    sigID = <rpy2.rinterface.ListSexpVector object at 0x7f84063654c0> [RTYPES.VECSXP],\n",
       "    pl = 1.0,\n",
       "    genplot = <rpy2.rinterface.ListSexpVector object at 0x7f8406365280> [RTYPES.VECSXP],\n",
       "    verbose = <rpy2.rinterface.ListSexpVector object at 0x7f8406365580> [RTYPES.VECSXP],\n",
       ")\n",
       "\n",
       "dat :  Stratigraphic series for MTM spectral analysis. First column should be location (e.g., depth), second column should be data value. ,\n",
       "\n",
       "tbw :  MTM time-bandwidth product. ,\n",
       "\n",
       "ntap :  Number of DPSS tapers to use. By default, this is set to (2*tbw)-1. ,\n",
       "\n",
       "padfac :  Pad with zeros to (padfac*npts) points, where npts is the original number of data points. ,\n",
       "\n",
       "demean :  Remove mean from data series? (T or F) ,\n",
       "\n",
       "detrend :  Remove linear trend from data series? (T or F) ,\n",
       "\n",
       "medsmooth :  ML96 median smoothing parameter (1 = use 100% of spectrum; 0.20 = use 20%) ,\n",
       "\n",
       "opt :  Optimization method for robust AR1 model estimation (1=Brent's method:fast, 2=Gauss-Newton:fast, 3=grid search:slow) ,\n",
       "\n",
       "linLog :  Optimize AR1 model fit using (1) linear power or (2) log(power)? ,\n",
       "\n",
       "siglevel :  Significance level for peak identification. (0-1) ,\n",
       "\n",
       "output :  What should be returned as a data frame? (0=nothing; 1= power spectrum + harmonic CL + AR1 CL + AR1 fit + 90%-99% AR1 power levels + median smoothed spectrum; 2=significant peak frequencies; 3=significant peak frequencies + harmonic CL) ,\n",
       "\n",
       "CLpwr :  Plot ML96 AR(1) noise confidence levels on power spectrum? (T or F) ,\n",
       "\n",
       "xmin :  Smallest frequency for plotting. ,\n",
       "\n",
       "xmax :  Largest frequency for plotting. ,\n",
       "\n",
       "sigID :  Identify significant frequencies on power and probabilty plots? (T or F) ,\n",
       "\n",
       "pl :  Power spectrum plotting: (1) linear frequency-log spectral power, (2) linear frequency-linear spectral power (3) log frequency-log spectral power, (4) log frequency-linear spectral power ,\n",
       "\n",
       "genplot :  Generate summary plots? (T or F) ,\n",
       "\n",
       "verbose :  Verbose output? (T or F) ,\n",
       "\u001b[0;31mClass docstring:\u001b[0m\n",
       "Python representation of an R function, where\n",
       "the names in named argument are translated to valid\n",
       "argument names in Python. \n"
      ]
     },
     "metadata": {},
     "output_type": "display_data"
    }
   ],
   "source": [
    "ac.mtmML96?"
   ]
  },
  {
   "cell_type": "code",
   "execution_count": null,
   "metadata": {},
   "outputs": [],
   "source": []
  }
 ],
 "metadata": {
  "jupytext": {
   "cell_metadata_filter": "all",
   "notebook_metadata_filter": "all,-language_info",
   "text_representation": {
    "extension": ".py",
    "format_name": "percent",
    "format_version": "1.3",
    "jupytext_version": "1.4.2"
   }
  },
  "kernelspec": {
   "display_name": "Python 3",
   "language": "python",
   "name": "python3"
  },
  "language_info": {
   "codemirror_mode": {
    "name": "ipython",
    "version": 3
   },
   "file_extension": ".py",
   "mimetype": "text/x-python",
   "name": "python",
   "nbconvert_exporter": "python",
   "pygments_lexer": "ipython3",
   "version": "3.8.3"
  }
 },
 "nbformat": 4,
 "nbformat_minor": 4
}
