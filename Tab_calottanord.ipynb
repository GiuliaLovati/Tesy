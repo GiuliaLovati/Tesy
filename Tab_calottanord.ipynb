{
 "cells": [
  {
   "cell_type": "code",
   "execution_count": 30,
   "metadata": {},
   "outputs": [],
   "source": [
    "import numpy as np\n",
    "import pandas as pd\n",
    "from pathlib import Path\n",
    "import shutil"
   ]
  },
  {
   "cell_type": "code",
   "execution_count": 36,
   "metadata": {},
   "outputs": [],
   "source": [
    "#serve per spostare tutti i file .tab (presenti nella cartella geom dove ho scaricato tutti i file .tab e .lbl di mrosh_2001) \n",
    "#in cui ci sono dati relativi alla calotta polare nord (lat<70° -> valore indicativo, forse meglio metterne uno più preciso)\n",
    "\n",
    "path = Path(\"geom\")\n",
    "\n",
    "geom_names = [\"RADARGRAM COLUMN\", \"TIME\", \"LATITUDE\", \"LONGITUDE\", \"MARS RADIUS\", \"SPACECRAFT RADIUS\", \n",
    "                 \"RADIAL VELOCITY\", \"TANGENTIAL VELOCITY\", \"SZA\", \"PHASE/1.0E16\"]\n",
    "\n",
    "geom_names = [n.replace(\" \", \"_\").replace(\"/\", \"_\").lower() for n in geom_names]\n",
    "\n",
    "\n",
    "#prova:\n",
    "#for file in path.glob('s_00168901_geom.tab'):\n",
    "#    df = pd.read_csv(file, skiprows=0, names=geom_names)\n",
    "#    print (df)\n",
    "#    print (df.describe())\n",
    "#    print (df.latitude)\n",
    "\n",
    "for file in path.glob('*.tab'):\n",
    "    df = pd.read_csv(file, skiprows=0, names=geom_names)\n",
    "    min_val= min(df.latitude)\n",
    "    if min_val>70. :\n",
    "        print ('valore minimo di', file, ':', min_val)\n",
    "        shutil.copy(\"C:\\\\Users\\\\Alfonso Lovati\\\\Desktop\\\\TESI_MAGISTRALE\\\\{0}\".format(file), \"C:\\\\Users\\\\Alfonso Lovati\\\\Desktop\\\\TESI_MAGISTRALE\\\\calottanord\")\n",
    "\n",
    "    \n",
    "\n"
   ]
  },
  {
   "cell_type": "code",
   "execution_count": null,
   "metadata": {},
   "outputs": [],
   "source": []
  }
 ],
 "metadata": {
  "kernelspec": {
   "display_name": "Python 3",
   "language": "python",
   "name": "python3"
  },
  "language_info": {
   "codemirror_mode": {
    "name": "ipython",
    "version": 3
   },
   "file_extension": ".py",
   "mimetype": "text/x-python",
   "name": "python",
   "nbconvert_exporter": "python",
   "pygments_lexer": "ipython3",
   "version": "3.7.3"
  }
 },
 "nbformat": 4,
 "nbformat_minor": 2
}
